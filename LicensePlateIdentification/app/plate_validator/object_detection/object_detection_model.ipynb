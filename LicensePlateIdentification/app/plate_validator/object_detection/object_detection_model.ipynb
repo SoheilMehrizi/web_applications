{
 "cells": [
  {
   "cell_type": "markdown",
   "id": "1ebaa876-14ef-468e-a8b8-13e00c42efc9",
   "metadata": {},
   "source": [
    "# Data Prepration"
   ]
  },
  {
   "cell_type": "markdown",
   "id": "0afdb045-86cb-46df-bb31-452ebfe0f0fd",
   "metadata": {},
   "source": [
    "# Converting .coco file into yolo supported format"
   ]
  },
  {
   "cell_type": "code",
   "execution_count": 3,
   "id": "433af547-10a9-4f5f-a1ad-d3eafebf3813",
   "metadata": {},
   "outputs": [
    {
     "name": "stdout",
     "output_type": "stream",
     "text": [
      "Conversion complete.\n"
     ]
    }
   ],
   "source": [
    "import json\n",
    "import os\n",
    "\n",
    "coco_file_path = 'DataSet/labels/train/_annotations.coco.json'\n",
    "output_dir = 'YDataSet/labels/train/'\n",
    "\n",
    "with open(coco_file_path) as f:\n",
    "    data = json.load(f)\n",
    "\n",
    "os.makedirs(output_dir, exist_ok=True)\n",
    "\n",
    "categories = {cat['id']: cat['name'] for cat in data['categories']}\n",
    "\n",
    "for image in data['images']:\n",
    "    image_id = image['id']\n",
    "    file_name = image['file_name']\n",
    "    width = image['width']\n",
    "    height = image['height']\n",
    "\n",
    "    annotations = [ann for ann in data['annotations'] if ann['image_id'] == image_id]\n",
    "    \n",
    "    yolo_annotations = []\n",
    "    for ann in annotations:\n",
    "        category_id = ann['category_id']\n",
    "        bbox = ann['bbox']\n",
    "\n",
    "        x_min, y_min, bbox_width, bbox_height = bbox\n",
    "        x_center = (x_min + bbox_width / 2) / width\n",
    "        y_center = (y_min + bbox_height / 2) / height\n",
    "        w = bbox_width / width\n",
    "        h = bbox_height / height\n",
    "        \n",
    "        yolo_annotations.append(f\"{category_id} {x_center} {y_center} {w} {h}\")\n",
    "    \n",
    "    yolo_file_path = os.path.join(output_dir, os.path.splitext(file_name)[0] + '.txt')\n",
    "    with open(yolo_file_path, 'w') as f:\n",
    "        f.write(\"\\n\".join(yolo_annotations))\n",
    "\n",
    "print(\"Conversion complete.\")\n"
   ]
  },
  {
   "cell_type": "markdown",
   "id": "59837612-648f-4890-a08e-f092872188a7",
   "metadata": {},
   "source": [
    "# Train Object Detection Model"
   ]
  },
  {
   "cell_type": "code",
   "execution_count": null,
   "id": "05f65edc-a936-4eca-a902-dd0cdef1e2b4",
   "metadata": {},
   "outputs": [],
   "source": [
    "from ultralytics import YOLO\n",
    "\n",
    "\n",
    "model = YOLO(\"yolov8n.yaml\")\n",
    "\n",
    "results = model.train(data=\"config.yaml\", epochs=20)"
   ]
  },
  {
   "cell_type": "markdown",
   "id": "94f5b713-92be-4c99-908f-2e9e45e2cf28",
   "metadata": {},
   "source": [
    "# Evaluating the model"
   ]
  },
  {
   "cell_type": "code",
   "execution_count": null,
   "id": "03f7504b-6393-41de-b675-ca30a32d93fa",
   "metadata": {},
   "outputs": [],
   "source": [
    "val_results = model.val(data='config.yaml')\n",
    "val_results.print()"
   ]
  },
  {
   "cell_type": "markdown",
   "id": "001ab58e-1c8d-4be1-9cba-afa895c74047",
   "metadata": {},
   "source": [
    "## Extract metrics from training results"
   ]
  },
  {
   "cell_type": "markdown",
   "id": "a69d8a01-0864-4cad-914d-288b2736f757",
   "metadata": {},
   "source": [
    "### Plot Loss over epochs"
   ]
  },
  {
   "cell_type": "code",
   "execution_count": null,
   "id": "a354c9ec-b48e-4c2d-b0cd-252ed2bad1a7",
   "metadata": {},
   "outputs": [],
   "source": [
    "\n",
    "plt.figure(figsize=(10, 6))\n",
    "plt.plot(metrics['train/box_loss'], label='Box Loss')\n",
    "plt.plot(metrics['train/obj_loss'], label='Objectness Loss')\n",
    "plt.plot(metrics['train/cls_loss'], label='Classification Loss')\n",
    "plt.xlabel('Epochs')\n",
    "plt.ylabel('Loss')\n",
    "plt.title('Training Loss')\n",
    "plt.legend()\n",
    "plt.show()"
   ]
  },
  {
   "cell_type": "markdown",
   "id": "73f6baf2-7a5d-4b2d-af13-9d4d44bb12f6",
   "metadata": {},
   "source": [
    "### Plot Precision and Recall"
   ]
  },
  {
   "cell_type": "code",
   "execution_count": null,
   "id": "65fca611-97d5-423c-a13f-a88af7dc3766",
   "metadata": {},
   "outputs": [],
   "source": [
    "plt.figure(figsize=(10, 6))\n",
    "plt.plot(metrics['metrics/precision'], label='Precision')\n",
    "plt.plot(metrics['metrics/recall'], label='Recall')\n",
    "plt.xlabel('Epochs')\n",
    "plt.ylabel('Value')\n",
    "plt.title('Precision and Recall')\n",
    "plt.legend()\n",
    "plt.show()"
   ]
  },
  {
   "cell_type": "markdown",
   "id": "7b0b518d-c742-4bb8-8c60-339950f58f6e",
   "metadata": {},
   "source": [
    "### Plot mAP (mean Average Precision)"
   ]
  },
  {
   "cell_type": "code",
   "execution_count": null,
   "id": "aaf23d62-e7eb-4b6d-b3fa-b0d0ee6f80bf",
   "metadata": {},
   "outputs": [],
   "source": [
    "plt.figure(figsize=(10, 6))\n",
    "plt.plot(metrics['metrics/mAP_0.5'], label='mAP@0.5')\n",
    "plt.plot(metrics['metrics/mAP_0.5:0.95'], label='mAP@0.5:0.95')\n",
    "plt.xlabel('Epochs')\n",
    "plt.ylabel('mAP')\n",
    "plt.title('Mean Average Precision')\n",
    "plt.legend()\n",
    "plt.show()"
   ]
  },
  {
   "cell_type": "markdown",
   "id": "282d6a75-d046-4b7f-9ea7-35242fa0a83b",
   "metadata": {},
   "source": [
    "# Export the object detection model"
   ]
  },
  {
   "cell_type": "code",
   "execution_count": null,
   "id": "dd9977a7-9c9e-4aa9-b628-c3a909d78bb6",
   "metadata": {},
   "outputs": [],
   "source": [
    "import os\n",
    "\n",
    "save_dir = '/models/'\n",
    "\n",
    "os.makedirs(save_dir, exist_ok=True)\n",
    "\n",
    "export_path = '/models/license_plate_detector.onnx'\n",
    "\n",
    "model.export(format='onnx', path= export_path)"
   ]
  }
 ],
 "metadata": {
  "kernelspec": {
   "display_name": "Python (.venv)",
   "language": "python",
   "name": ".venv"
  },
  "language_info": {
   "codemirror_mode": {
    "name": "ipython",
    "version": 3
   },
   "file_extension": ".py",
   "mimetype": "text/x-python",
   "name": "python",
   "nbconvert_exporter": "python",
   "pygments_lexer": "ipython3",
   "version": "3.12.5"
  }
 },
 "nbformat": 4,
 "nbformat_minor": 5
}
